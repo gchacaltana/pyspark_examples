{
  "nbformat": 4,
  "nbformat_minor": 0,
  "metadata": {
    "colab": {
      "name": "Using Lambda with Friends Data.ipynb",
      "provenance": []
    },
    "kernelspec": {
      "name": "python3",
      "display_name": "Python 3"
    }
  },
  "cells": [
    {
      "cell_type": "code",
      "metadata": {
        "id": "9I-XE1BqTec-",
        "colab_type": "code",
        "colab": {}
      },
      "source": [
        "# !python\n",
        "f = sc.textFile(\"file:///home/gchacaltanab/data/fakefriends.csv\")\n",
        "f.take(5)"
      ],
      "execution_count": 0,
      "outputs": []
    },
    {
      "cell_type": "code",
      "metadata": {
        "id": "tWuSGSsiTy8i",
        "colab_type": "code",
        "colab": {}
      },
      "source": [
        "['0,Will,33,385',\n",
        " '1,Jean-Luc,26,2',\n",
        " '2,Hugh,55,221',\n",
        " '3,Deanna,40,465',\n",
        " '4,Quark,68,21']"
      ],
      "execution_count": 0,
      "outputs": []
    },
    {
      "cell_type": "code",
      "metadata": {
        "id": "WJVTIL-sTre-",
        "colab_type": "code",
        "colab": {}
      },
      "source": [
        "f1 = f.map(lambda x: x.split(','))\n",
        "f1.take(3)"
      ],
      "execution_count": 0,
      "outputs": []
    },
    {
      "cell_type": "code",
      "metadata": {
        "id": "t_0yxcsdT3I2",
        "colab_type": "code",
        "colab": {}
      },
      "source": [
        "[['0', 'Will', '33', '385'],\n",
        " ['1', 'Jean-Luc', '26', '2'],\n",
        " ['2', 'Hugh', '55', '221']]"
      ],
      "execution_count": 0,
      "outputs": []
    },
    {
      "cell_type": "code",
      "metadata": {
        "id": "II0tOc7hT5SS",
        "colab_type": "code",
        "colab": {}
      },
      "source": [
        "datos = f1.map(lambda x: (int(x[2]),int(x[3])))\n",
        "datos.take(3)"
      ],
      "execution_count": 0,
      "outputs": []
    },
    {
      "cell_type": "code",
      "metadata": {
        "id": "mcPpZGgfT8rv",
        "colab_type": "code",
        "colab": {}
      },
      "source": [
        "[(33, 385), (26, 2), (55, 221)]"
      ],
      "execution_count": 0,
      "outputs": []
    },
    {
      "cell_type": "code",
      "metadata": {
        "id": "FkwtTB6kqf9U",
        "colab_type": "code",
        "colab": {}
      },
      "source": [
        "datos1 = datos.map(lambda x: (x[0],(x[1],1)))\n",
        "datos1.take(3)"
      ],
      "execution_count": 0,
      "outputs": []
    },
    {
      "cell_type": "code",
      "metadata": {
        "id": "WLRnPK9MqkqU",
        "colab_type": "code",
        "colab": {}
      },
      "source": [
        "[(33, (385, 1)), (26, (2, 1)), (55, (221, 1))]"
      ],
      "execution_count": 0,
      "outputs": []
    },
    {
      "cell_type": "code",
      "metadata": {
        "id": "4yEeV5h7qmtR",
        "colab_type": "code",
        "colab": {}
      },
      "source": [
        "datos2 = datos1.reduceByKey(lambda x,y: ((x[0]+y[0]),x[1]+y[1]))\n",
        "datos2.take(3)"
      ],
      "execution_count": 0,
      "outputs": []
    },
    {
      "cell_type": "code",
      "metadata": {
        "id": "hNEiOJxpqwRk",
        "colab_type": "code",
        "colab": {}
      },
      "source": [
        "[(33, (3904, 12)), (26, (4115, 17)), (55, (3842, 13))]"
      ],
      "execution_count": 0,
      "outputs": []
    },
    {
      "cell_type": "code",
      "metadata": {
        "id": "FK5IvDbtqyau",
        "colab_type": "code",
        "colab": {}
      },
      "source": [
        "datos3 = datos2.map(lambda x: (x[0],x[1][0]/x[1][1]))\n",
        "datos3.take(4)"
      ],
      "execution_count": 0,
      "outputs": []
    },
    {
      "cell_type": "code",
      "metadata": {
        "id": "yZQPZkROq0iG",
        "colab_type": "code",
        "colab": {}
      },
      "source": [
        "[(33, 325.3333333333333),\n",
        " (26, 242.05882352941177),\n",
        " (55, 295.53846153846155),\n",
        " (40, 250.8235294117647)]"
      ],
      "execution_count": 0,
      "outputs": []
    }
  ]
}