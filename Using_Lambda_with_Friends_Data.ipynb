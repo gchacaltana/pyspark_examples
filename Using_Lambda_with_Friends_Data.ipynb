{
  "nbformat": 4,
  "nbformat_minor": 0,
  "metadata": {
    "colab": {
      "name": "Using Lambda with Friends Data.ipynb",
      "provenance": []
    },
    "kernelspec": {
      "name": "python3",
      "display_name": "Python 3"
    }
  },
  "cells": [
    {
      "cell_type": "code",
      "metadata": {
        "id": "9I-XE1BqTec-",
        "colab_type": "code",
        "colab": {}
      },
      "source": [
        "# !python\n",
        "f = sc.textFile(\"file:///home/gchacaltanab/data/fakefriends.csv\")\n",
        "f.take(5)"
      ],
      "execution_count": 0,
      "outputs": []
    },
    {
      "cell_type": "code",
      "metadata": {
        "id": "tWuSGSsiTy8i",
        "colab_type": "code",
        "colab": {}
      },
      "source": [
        "['0,Will,33,385',\n",
        " '1,Jean-Luc,26,2',\n",
        " '2,Hugh,55,221',\n",
        " '3,Deanna,40,465',\n",
        " '4,Quark,68,21']"
      ],
      "execution_count": 0,
      "outputs": []
    },
    {
      "cell_type": "code",
      "metadata": {
        "id": "WJVTIL-sTre-",
        "colab_type": "code",
        "colab": {}
      },
      "source": [
        "f1 = f.map(lambda x: x.split(','))\n",
        "f1.take(3)"
      ],
      "execution_count": 0,
      "outputs": []
    },
    {
      "cell_type": "code",
      "metadata": {
        "id": "t_0yxcsdT3I2",
        "colab_type": "code",
        "colab": {}
      },
      "source": [
        "[['0', 'Will', '33', '385'],\n",
        " ['1', 'Jean-Luc', '26', '2'],\n",
        " ['2', 'Hugh', '55', '221']]"
      ],
      "execution_count": 0,
      "outputs": []
    },
    {
      "cell_type": "code",
      "metadata": {
        "id": "II0tOc7hT5SS",
        "colab_type": "code",
        "colab": {}
      },
      "source": [
        "datos = f1.map(lambda x: (int(x[2]),int(x[3])))\n",
        "datos.take(3)"
      ],
      "execution_count": 0,
      "outputs": []
    },
    {
      "cell_type": "code",
      "metadata": {
        "id": "mcPpZGgfT8rv",
        "colab_type": "code",
        "colab": {}
      },
      "source": [
        "[(33, 385), (26, 2), (55, 221)]"
      ],
      "execution_count": 0,
      "outputs": []
    }
  ]
}