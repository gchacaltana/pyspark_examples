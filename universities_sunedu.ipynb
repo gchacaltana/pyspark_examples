{
  "nbformat": 4,
  "nbformat_minor": 0,
  "metadata": {
    "kernelspec": {
      "display_name": "Python 3",
      "language": "python",
      "name": "python3"
    },
    "language_info": {
      "codemirror_mode": {
        "name": "ipython",
        "version": 3
      },
      "file_extension": ".py",
      "mimetype": "text/x-python",
      "name": "python",
      "nbconvert_exporter": "python",
      "pygments_lexer": "ipython3",
      "version": "3.6.8"
    },
    "colab": {
      "name": "Trabajo Final GVD.ipynb",
      "provenance": []
    }
  },
  "cells": [
    {
      "cell_type": "markdown",
      "metadata": {
        "id": "fQQMO2tFOCYw",
        "colab_type": "text"
      },
      "source": [
        "# Ejercicio : Aplicando PySpark - Fuente de Datos SUNEDU\n"
      ]
    },
    {
      "cell_type": "markdown",
      "metadata": {
        "id": "PJxSV3EKOCY1",
        "colab_type": "text"
      },
      "source": [
        "### Descargando fuente de datos \"Universidades\"\n",
        "\n",
        "Descargamos fuente de datos universidades en formato .CSV del portal datosabiertos correspondiente a la SUNEDU.\n",
        "\n",
        "URL: https://www.datosabiertos.gob.pe/dataset/sunedu-listado-de-universidades\n",
        "\n",
        "Fecha Actualización de fuente de dato: 12/09/2019"
      ]
    },
    {
      "cell_type": "markdown",
      "metadata": {
        "id": "HpEozMVHOCY2",
        "colab_type": "text"
      },
      "source": [
        "### Cargamos fuente de datos \"Universidades.csv\" a nuestro programa"
      ]
    },
    {
      "cell_type": "code",
      "metadata": {
        "id": "t8nIzBFaOCY4",
        "colab_type": "code",
        "colab": {}
      },
      "source": [
        "# Cargamos fichero universidaddes.csv a nuestro programa\n",
        "file = \"file:///home/gchacaltanab/datos/Universidades.csv\"\n",
        "data_csv = sc.textFile(file)"
      ],
      "execution_count": 0,
      "outputs": []
    },
    {
      "cell_type": "markdown",
      "metadata": {
        "id": "227I9HoxOCY-",
        "colab_type": "text"
      },
      "source": [
        "### Analizamos estructura de la fuente de datos \"Universidades.csv\""
      ]
    },
    {
      "cell_type": "code",
      "metadata": {
        "id": "SMIDJh3eOCY_",
        "colab_type": "code",
        "colab": {}
      },
      "source": [
        "# Obtenemos la cabecera del archivo para conocer su estructura.\n",
        "header = data_csv.first()\n",
        "header_names = str(header).split(',')"
      ],
      "execution_count": 0,
      "outputs": []
    },
    {
      "cell_type": "code",
      "metadata": {
        "id": "b9Pmvxo_OCZE",
        "colab_type": "code",
        "colab": {},
        "outputId": "5ba123a3-e46f-4814-d613-f507331c5b43"
      },
      "source": [
        "# Devolver estructura del archivo.\n",
        "print(\"\\033[1m ESTRUCTURA DEL ARCHIVO \\033[0m\")\n",
        "list(header_names)"
      ],
      "execution_count": 0,
      "outputs": [
        {
          "output_type": "stream",
          "text": [
            "\u001b[1m ESTRUCTURA DEL ARCHIVO \u001b[0m\n"
          ],
          "name": "stdout"
        },
        {
          "output_type": "execute_result",
          "data": {
            "text/plain": [
              "['CODIGO',\n",
              " 'NOMBRE',\n",
              " 'UNIV TIPO',\n",
              " 'ESTADO LICENCIAMIENTO',\n",
              " 'PERIODO LICENC',\n",
              " 'DEPARTAMENTO',\n",
              " 'PROVINCIA',\n",
              " 'DISTRITO',\n",
              " 'LATITUD',\n",
              " 'LONGITUD']"
            ]
          },
          "metadata": {
            "tags": []
          },
          "execution_count": 24
        }
      ]
    },
    {
      "cell_type": "markdown",
      "metadata": {
        "id": "xHMB6tlwOCZK",
        "colab_type": "text"
      },
      "source": [
        "### Eliminamos la cabecera del fichero"
      ]
    },
    {
      "cell_type": "code",
      "metadata": {
        "id": "Zzi09CDqOCZM",
        "colab_type": "code",
        "colab": {}
      },
      "source": [
        "data_csv_body = data_csv.filter(lambda x: x!=header)"
      ],
      "execution_count": 0,
      "outputs": []
    },
    {
      "cell_type": "code",
      "metadata": {
        "id": "W1ALMwZDOCZQ",
        "colab_type": "code",
        "colab": {},
        "outputId": "13121ae7-fafd-4529-eee5-81d97036340c"
      },
      "source": [
        "# Devolvemos la cantidad de registros que contiene el archivo.\n",
        "print(\"El archivo contiene %s registros\" % data_csv_body.count())"
      ],
      "execution_count": 0,
      "outputs": [
        {
          "output_type": "stream",
          "text": [
            "El archivo contiene 134 registros\n"
          ],
          "name": "stdout"
        }
      ]
    },
    {
      "cell_type": "code",
      "metadata": {
        "id": "nWHS6316OCZV",
        "colab_type": "code",
        "colab": {},
        "outputId": "5e0c4191-9440-40e0-e4f3-da8994284d6d"
      },
      "source": [
        "# Imprimimos el primer registr, para conocer su estructura y contenido.\n",
        "data_csv_body.take(1)"
      ],
      "execution_count": 0,
      "outputs": [
        {
          "output_type": "execute_result",
          "data": {
            "text/plain": [
              "['001,UNIVERSIDAD NACIONAL MAYOR DE SAN MARCOS,PUBLICO,LICENCIADA,10,LIMA,LIMA,LIMA,-12.046374,-77.042793399999994']"
            ]
          },
          "metadata": {
            "tags": []
          },
          "execution_count": 33
        }
      ]
    },
    {
      "cell_type": "code",
      "metadata": {
        "id": "6IUGTAzkOCZc",
        "colab_type": "code",
        "colab": {}
      },
      "source": [
        "# Creamos RDD para trabajar con la data necesaria para el análisis.\n",
        "pre_data = data_csv_body.map(lambda x: x.split(','))\n",
        "data = pre_data.map(lambda x: (x[1], x[2], x[3], x[4], x[5],x[6],x[7]))"
      ],
      "execution_count": 0,
      "outputs": []
    },
    {
      "cell_type": "code",
      "metadata": {
        "id": "Qtkv70hfOCZj",
        "colab_type": "code",
        "colab": {},
        "outputId": "f809f7bf-4277-4ec1-ffb2-f196fbddd283"
      },
      "source": [
        "# Visualizamos los dos primeros registros del RDD. Repamos la estructura de la fuente de datos.\n",
        "data.take(2)"
      ],
      "execution_count": 0,
      "outputs": [
        {
          "output_type": "execute_result",
          "data": {
            "text/plain": [
              "[('UNIVERSIDAD NACIONAL MAYOR DE SAN MARCOS',\n",
              "  'PUBLICO',\n",
              "  'LICENCIADA',\n",
              "  '10',\n",
              "  'LIMA',\n",
              "  'LIMA',\n",
              "  'LIMA'),\n",
              " ('UNIVERSIDAD NACIONAL DE SAN CRIST�BAL DE HUAMANGA',\n",
              "  'PUBLICO',\n",
              "  'LICENCIADA',\n",
              "  '6',\n",
              "  'AYACUCHO',\n",
              "  'HUAMANGA',\n",
              "  'AYACUCHO')]"
            ]
          },
          "metadata": {
            "tags": []
          },
          "execution_count": 36
        }
      ]
    },
    {
      "cell_type": "markdown",
      "metadata": {
        "id": "cncSYGTSOCZq",
        "colab_type": "text"
      },
      "source": [
        "### ¿Cuántos tipos de universidades existen?"
      ]
    },
    {
      "cell_type": "code",
      "metadata": {
        "id": "QjI5OPYDOCZs",
        "colab_type": "code",
        "colab": {},
        "outputId": "bcc779fc-8bcd-4c80-bc6c-c0121f0e2a76"
      },
      "source": [
        "# Creamos RDD que contenga los tipos de universidades añadiendole el valor de 1 para calcular cantidades.\n",
        "universities_types = data.map(lambda x: (x[1],1))\n",
        "universities_types.reduceByKey(lambda x,y: x+y).takeOrdered(3, lambda x: -x[1])"
      ],
      "execution_count": 0,
      "outputs": [
        {
          "output_type": "execute_result",
          "data": {
            "text/plain": [
              "[('PRIVADA SOCIETARIA', 50), ('PUBLICO', 43), ('PRIVADA ASOCIATIVA', 41)]"
            ]
          },
          "metadata": {
            "tags": []
          },
          "execution_count": 74
        }
      ]
    },
    {
      "cell_type": "markdown",
      "metadata": {
        "id": "iOHJ8a6gOCZy",
        "colab_type": "text"
      },
      "source": [
        "### ¿Cuántas universidades se encuentrán licenciadas, en proceso o denegadas?"
      ]
    },
    {
      "cell_type": "code",
      "metadata": {
        "id": "UPfl3s86OCZz",
        "colab_type": "code",
        "colab": {},
        "outputId": "f701dcb9-404d-4d79-d6ab-fa991bac0104"
      },
      "source": [
        "# Creamos RDD que contenga los tipos de licenciamiento añadiendole el valor de 1 para calcular cantidades.\n",
        "universities_state_lic = data.map(lambda x: (x[2],1))\n",
        "universities_state_lic.reduceByKey(lambda x,y: x+y).takeOrdered(3, lambda x: -x[1])"
      ],
      "execution_count": 0,
      "outputs": [
        {
          "output_type": "execute_result",
          "data": {
            "text/plain": [
              "[('LICENCIADA', 69), ('EN PROCESO', 55), ('DENEGADA', 10)]"
            ]
          },
          "metadata": {
            "tags": []
          },
          "execution_count": 76
        }
      ]
    },
    {
      "cell_type": "markdown",
      "metadata": {
        "id": "lOdsR5h1OCZ4",
        "colab_type": "text"
      },
      "source": [
        "### ¿Cuántas universidades hay por departamento?"
      ]
    },
    {
      "cell_type": "code",
      "metadata": {
        "id": "pbtZWLf9OCZ5",
        "colab_type": "code",
        "colab": {},
        "outputId": "ee1babb2-f358-48c9-de78-6ffb3987a15f"
      },
      "source": [
        "universities_by_department = data.map(lambda x: (x[4],1))\n",
        "universities_by_department.reduceByKey(lambda x,y: x+y).takeOrdered(30, lambda x: -x[1])"
      ],
      "execution_count": 0,
      "outputs": [
        {
          "output_type": "execute_result",
          "data": {
            "text/plain": [
              "[('LIMA', 53),\n",
              " ('LA LIBERTAD', 7),\n",
              " ('AREQUIPA', 7),\n",
              " ('JUNiN', 6),\n",
              " ('LAMBAYEQUE', 6),\n",
              " ('CUSCO', 5),\n",
              " ('LORETO', 5),\n",
              " ('PUNO', 4),\n",
              " ('CAJAMARCA', 4),\n",
              " ('ANCASH', 4),\n",
              " ('AYACUCHO', 3),\n",
              " ('ICA', 3),\n",
              " ('PIURA', 3),\n",
              " ('HUaNUCO', 3),\n",
              " ('TACNA', 3),\n",
              " ('UCAYALI', 3),\n",
              " ('APURiMAC', 3),\n",
              " ('CALLAO', 2),\n",
              " ('MOQUEGUA', 2),\n",
              " ('HUANCAVELICA', 2),\n",
              " ('AMAZONAS', 2),\n",
              " ('PASCO', 1),\n",
              " ('SAN MARTiN', 1),\n",
              " ('TUMBES', 1),\n",
              " ('MADRE DE DIOS', 1)]"
            ]
          },
          "metadata": {
            "tags": []
          },
          "execution_count": 79
        }
      ]
    },
    {
      "cell_type": "markdown",
      "metadata": {
        "id": "Huwb2nkoOCZ_",
        "colab_type": "text"
      },
      "source": [
        "### ¿Cuántas son las universidades privadas que están licenciadas?"
      ]
    },
    {
      "cell_type": "code",
      "metadata": {
        "id": "1Z1wz4CKOCaA",
        "colab_type": "code",
        "colab": {},
        "outputId": "85d23484-3d43-4488-b030-52d642940076"
      },
      "source": [
        "report_priv_lic = data.filter(lambda x: ((\"PRIVADA SOCIETARIA\" in x[1] or \"PRIVADA ASOCIATIVA\" in x[1]) and \"LICENCIADA\" in x[2]))\n",
        "print(\"Son %s universidades privadas que están licenciadas. \" % (report_priv_lic.count()))"
      ],
      "execution_count": 0,
      "outputs": [
        {
          "output_type": "stream",
          "text": [
            "Son 38 universidades privadas que están licenciadas. \n"
          ],
          "name": "stdout"
        }
      ]
    },
    {
      "cell_type": "markdown",
      "metadata": {
        "id": "iUNqfOXxOCaF",
        "colab_type": "text"
      },
      "source": [
        "### ¿Cuántas son las universidades públicas que están en proceso de licenciamiento?"
      ]
    },
    {
      "cell_type": "code",
      "metadata": {
        "id": "BvJpUYc5OCaH",
        "colab_type": "code",
        "colab": {},
        "outputId": "6b6b3870-d187-4436-b80c-d70fb3ef3b9e"
      },
      "source": [
        "report_nac_pro = data.filter(lambda x: (\"PUBLICO\" in x[1] and \"EN PROCESO\" in x[2]))\n",
        "print(\"Son %s universidades públicas que están en proceso de licenciamiento. \" % (report_nac_pro.count()))"
      ],
      "execution_count": 0,
      "outputs": [
        {
          "output_type": "stream",
          "text": [
            "Son 12 universidades públicas que están en proceso de licenciamiento. \n"
          ],
          "name": "stdout"
        }
      ]
    },
    {
      "cell_type": "code",
      "metadata": {
        "id": "gMxBaDkcOCaO",
        "colab_type": "code",
        "colab": {},
        "outputId": "d2fefb32-0fa2-4380-9960-011a36f8923c"
      },
      "source": [
        "print(\"UNIVERSIDADES PÚBLICAS EN PROCESO DE LICENCIAMIENTO\")\n",
        "report_nac_pro.map(lambda x: (x[0],x[4])).collect()"
      ],
      "execution_count": 0,
      "outputs": [
        {
          "output_type": "stream",
          "text": [
            "UNIVERSIDADES PÚBLICAS EN PROCESO DE LICENCIAMIENTO\n"
          ],
          "name": "stdout"
        },
        {
          "output_type": "execute_result",
          "data": {
            "text/plain": [
              "[('UNIVERSIDAD NACIONAL SAN LUIS GONZAGA DE ICA', 'ICA'),\n",
              " ('UNIVERSIDAD NACIONAL FEDERICO VILLARREAL', 'LIMA'),\n",
              " ('UNIVERSIDAD NACIONAL AGRARIA DE LA SELVA', 'HUaNUCO'),\n",
              " ('UNIVERSIDAD NACIONAL HERMILIO VALDIZ�N DE HU�NUCO', 'HUaNUCO'),\n",
              " ('UNIVERSIDAD NACIONAL DE EDUCACI�N ENRIQUE GUZM�N Y VALLE', 'LIMA'),\n",
              " ('UNIVERSIDAD NACIONAL DANIEL ALC�DES CARRI�N', 'PASCO'),\n",
              " ('UNIVERSIDAD NACIONAL DEL CALLAO', 'CALLAO'),\n",
              " ('UNIVERSIDAD NACIONAL JOS� FAUSTINO S�NCHEZ CARRI�N', 'LIMA'),\n",
              " ('UNIVERSIDAD NACIONAL PEDRO RU�Z GALLO', 'LAMBAYEQUE'),\n",
              " ('UNIVERSIDAD NACIONAL DE TUMBES', 'TUMBES'),\n",
              " ('UNIVERSIDAD NACIONAL AMAZ�NICA DE MADRE DE DIOS', 'MADRE DE DIOS'),\n",
              " ('UNIVERSIDAD NACIONAL MICAELA BASTIDAS DE APUR�MAC', 'APURiMAC')]"
            ]
          },
          "metadata": {
            "tags": []
          },
          "execution_count": 106
        }
      ]
    }
  ]
}